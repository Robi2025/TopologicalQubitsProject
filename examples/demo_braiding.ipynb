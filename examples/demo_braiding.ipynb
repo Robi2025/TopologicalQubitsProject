{
 "cells": [
  {
   "cell_type": "markdown",
   "metadata": {},
   "source": ["# Demo: Braiding de Anyones"]
  },
  {
   "cell_type": "code",
   "execution_count": null,
   "metadata": {},
   "outputs": [],
   "source": [
    "import numpy as np\n",
    "import matplotlib.pyplot as plt\n",
    "\n",
    "# Ejemplo simple de matriz de braiding\n",
    "sigma_x = np.array([[0,1],[1,0]])\n",
    "sigma_y = np.array([[0,-1j],[1j,0]])\n",
    "\n",
    "U_braid = np.dot(sigma_x, sigma_y)\n",
    "print('Matriz de Braiding:', U_braid)"
   ]
  }
 ],
 "metadata": {},
 "nbformat": 4,
 "nbformat_minor": 2
}
